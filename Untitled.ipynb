{
 "cells": [
  {
   "cell_type": "code",
   "execution_count": 6,
   "id": "78c766d4",
   "metadata": {},
   "outputs": [],
   "source": [
    "import numpy as np\n",
    "import pandas as pd\n",
    "from glob import glob"
   ]
  },
  {
   "cell_type": "code",
   "execution_count": 16,
   "id": "8ff36036",
   "metadata": {},
   "outputs": [
    {
     "name": "stdout",
     "output_type": "stream",
     "text": [
      "<class 'pandas.core.frame.DataFrame'>\n",
      "RangeIndex: 115488 entries, 0 to 115487\n",
      "Data columns (total 4 columns):\n",
      " #   Column        Non-Null Count   Dtype \n",
      "---  ------        --------------   ----- \n",
      " 0   id            115488 non-null  object\n",
      " 1   class         115488 non-null  object\n",
      " 2   segmentation  33913 non-null   object\n",
      " 3   path          115488 non-null  object\n",
      "dtypes: object(4)\n",
      "memory usage: 3.5+ MB\n"
     ]
    }
   ],
   "source": [
    "train = './train'\n",
    "train_csv = pd.read_csv(\"./train.csv\")\n",
    "train_csv['path'] = ''\n",
    "train_csv.info()"
   ]
  },
  {
   "cell_type": "code",
   "execution_count": 7,
   "id": "b2492ae0",
   "metadata": {},
   "outputs": [],
   "source": [
    "x = glob(r'./train/**/*.png', recursive=True)\n",
    "for i in range(len(x)):\n",
    "    x[i] = x[i].replace(\"./\", \"\")"
   ]
  },
  {
   "cell_type": "code",
   "execution_count": 29,
   "id": "2630612f",
   "metadata": {},
   "outputs": [],
   "source": [
    "from pathlib import Path\n",
    "x_dic = {}\n",
    "for i in x:\n",
    "    name = i.split('\\\\')[-1].split('_')\n",
    "    img_name = i.split('\\\\')[-3] + '_' + name[0] + '_' + name[1]\n",
    "    x_dic[img_name] = i"
   ]
  },
  {
   "cell_type": "code",
   "execution_count": 31,
   "id": "496d644c",
   "metadata": {
    "scrolled": true
   },
   "outputs": [],
   "source": [
    "for i in range(len(train_csv)):\n",
    "    train_csv.loc[i]['path'] = x_dic[train_csv.loc[i]['id']]"
   ]
  },
  {
   "cell_type": "code",
   "execution_count": 34,
   "id": "59a9b449",
   "metadata": {},
   "outputs": [],
   "source": [
    "train_csv.to_csv('train.csv')"
   ]
  }
 ],
 "metadata": {
  "kernelspec": {
   "display_name": "Python 3 (ipykernel)",
   "language": "python",
   "name": "python3"
  },
  "language_info": {
   "codemirror_mode": {
    "name": "ipython",
    "version": 3
   },
   "file_extension": ".py",
   "mimetype": "text/x-python",
   "name": "python",
   "nbconvert_exporter": "python",
   "pygments_lexer": "ipython3",
   "version": "3.9.7"
  }
 },
 "nbformat": 4,
 "nbformat_minor": 5
}
